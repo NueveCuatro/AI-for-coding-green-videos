{
  "cells": [
    {
      "cell_type": "code",
      "execution_count": null,
      "metadata": {
        "id": "4eyjs7v2Sb8-"
      },
      "outputs": [],
      "source": [
        "from google.colab import drive\n",
        "import csv\n",
        "import json\n",
        "import subprocess\n",
        "import os\n",
        "import requests\n"
      ]
    },
    {
      "cell_type": "code",
      "execution_count": null,
      "metadata": {
        "colab": {
          "base_uri": "https://localhost:8080/"
        },
        "id": "vbVWWtMLXFM0",
        "outputId": "30b32162-d163-4d3f-81ab-6842b722cb63"
      },
      "outputs": [
        {
          "name": "stdout",
          "output_type": "stream",
          "text": [
            "Reading package lists... Done\n",
            "Building dependency tree... Done\n",
            "Reading state information... Done\n",
            "ffmpeg is already the newest version (7:4.4.2-0ubuntu0.22.04.1).\n",
            "0 upgraded, 0 newly installed, 0 to remove and 19 not upgraded.\n"
          ]
        }
      ],
      "source": [
        "!apt install ffmpeg"
      ]
    },
    {
      "cell_type": "code",
      "execution_count": null,
      "metadata": {
        "colab": {
          "base_uri": "https://localhost:8080/"
        },
        "id": "ozOa8feoS2Fk",
        "outputId": "fd698a31-597d-493b-b2eb-563c71e1c5fd"
      },
      "outputs": [
        {
          "name": "stdout",
          "output_type": "stream",
          "text": [
            "Mounted at /content/drive\n"
          ]
        }
      ],
      "source": [
        "# Montez votre Google Drive\n",
        "drive.mount('/content/drive')\n"
      ]
    },
    {
      "cell_type": "code",
      "execution_count": null,
      "metadata": {
        "colab": {
          "base_uri": "https://localhost:8080/"
        },
        "id": "Y0YIeWN2S4Tb",
        "outputId": "0c6f384b-0876-46c6-ea96-9c04cb9db9df"
      },
      "outputs": [
        {
          "name": "stdout",
          "output_type": "stream",
          "text": [
            "create-original-json.ipynb  dataset.csv  original.json\n"
          ]
        }
      ],
      "source": [
        "!cd drive/MyDrive/TSP/HTI/PFE/; ls"
      ]
    },
    {
      "cell_type": "code",
      "execution_count": null,
      "metadata": {
        "id": "R0J6r8fpTWlT"
      },
      "outputs": [],
      "source": [
        "# Chemin d'accès à votre fichier CSV et dossier de sortie JSON\n",
        "csv_file_path = 'drive/MyDrive/TSP/HTI/PFE/dataset.csv'\n",
        "json_output_folder = 'drive/MyDrive/TSP/HTI/PFE/original.json'"
      ]
    },
    {
      "cell_type": "code",
      "execution_count": null,
      "metadata": {
        "id": "W8D4nJw9VFVa"
      },
      "outputs": [],
      "source": [
        "def get_video_encoding_parameters(video_path):\n",
        "    try:\n",
        "        command = [\n",
        "                    \"ffprobe\",\n",
        "                    \"-v\", \"error\",\n",
        "                    \"-show_entries\", \"format=filename,nb_streams,nb_programs,format_name,format_long_name,start_time,duration,size,bit_rate,probe_score,tags\",\n",
        "                    \"-show_streams\",\n",
        "                    \"-of\", \"json\",\n",
        "                    video_path\n",
        "                ]\n",
        "        result = subprocess.Popen(command, stdout=subprocess.PIPE, stderr=subprocess.PIPE, universal_newlines=True)\n",
        "        output, _ = result.communicate()\n",
        "        return json.loads(output)\n",
        "    except Exception as e:\n",
        "        return {\"error\": str(e)}\n"
      ]
    },
    {
      "cell_type": "code",
      "execution_count": null,
      "metadata": {
        "id": "ox4KDxXDVKtt"
      },
      "outputs": [],
      "source": [
        "def download_video(stream_link, video_name):\n",
        "    try:\n",
        "        r = requests.get(stream_link, stream=True)\n",
        "        if r.status_code == 200:\n",
        "            with open(video_name, 'wb') as f:\n",
        "                for chunk in r.iter_content(1024):\n",
        "                    f.write(chunk)\n",
        "            return True\n",
        "        else:\n",
        "            return False\n",
        "    except Exception as e:\n",
        "        print(f\"Error downloading video {video_name}: {e}\")\n",
        "        return False\n"
      ]
    },
    {
      "cell_type": "code",
      "execution_count": null,
      "metadata": {
        "id": "42tECmMke5S9"
      },
      "outputs": [],
      "source": [
        "def process_video_row(row, all_video_info):\n",
        "    try:\n",
        "        uuid = row['uuid']\n",
        "        video_name = row['name']\n",
        "        stream_link = row['stream_link']\n",
        "    except KeyError as e:\n",
        "        print(f\"A key is missing in the row: {e}\")\n",
        "        return False\n",
        "\n",
        "    if uuid not in all_video_info:\n",
        "        if download_video(stream_link, video_name):\n",
        "            video_info = get_video_encoding_parameters(video_name)\n",
        "            video_info['name'] = video_name\n",
        "            video_info['stream_link'] = stream_link\n",
        "            all_video_info[uuid] = video_info\n",
        "            os.remove(video_name)  # Delete the video file to save space\n",
        "            return True\n",
        "        else:\n",
        "            print(f\"Failed to download video {video_name}\")\n",
        "            return False\n",
        "    return False  # UUID already processed, no need to download"
      ]
    },
    {
      "cell_type": "code",
      "execution_count": null,
      "metadata": {
        "id": "liftFlEDVM6G"
      },
      "outputs": [],
      "source": [
        "def process_videos(csv_file_path, json_output_path):\n",
        "    # Try loading existing JSON data if it exists\n",
        "    if os.path.exists(json_output_path) and os.path.getsize(json_output_path) > 0:\n",
        "        with open(json_output_path, 'r') as json_file:\n",
        "            all_video_info = json.load(json_file)\n",
        "    else:\n",
        "        all_video_info = {}\n",
        "\n",
        "    # Process each video in the CSV\n",
        "    with open(csv_file_path, mode='r', encoding='utf-8-sig') as file:\n",
        "        csv_reader = csv.DictReader(file, delimiter=';')\n",
        "        headers = csv_reader.fieldnames\n",
        "        print(\"Headers:\", headers)  # Check the actual headers\n",
        "        first_row = next(csv_reader)\n",
        "        print(\"First row:\", first_row)  # Check the first row\n",
        "\n",
        "        # Now reset the iterator and process as normal\n",
        "        file.seek(0)\n",
        "        csv_reader = csv.DictReader(file, delimiter=';')\n",
        "        next(csv_reader)  # Skip the header after resetting\n",
        "\n",
        "        for row in csv_reader:\n",
        "            if process_video_row(row, all_video_info):\n",
        "                # Save after each successful process to allow resuming\n",
        "                with open(json_output_path, 'w') as json_file:\n",
        "                    json.dump(all_video_info, json_file, indent=4)\n"
      ]
    },
    {
      "cell_type": "code",
      "execution_count": null,
      "metadata": {
        "colab": {
          "base_uri": "https://localhost:8080/"
        },
        "id": "dJhlyZhOVPaV",
        "outputId": "8ca933a0-213e-4e75-b71b-6c2416e18ff5"
      },
      "outputs": [
        {
          "name": "stdout",
          "output_type": "stream",
          "text": [
            "Headers: ['uuid', 'name', 'duration', 'size', 'video_quality', 'stream_link']\n",
            "First row: {'uuid': '1ec2a834-2a67-4162-bbe8-66cb57ca6cb3', 'name': 'Bouygues_20s_reseau_Plongeon_WEB_noPetal_ML', 'duration': '20', 'size': '23723292', 'video_quality': '1920x1080', 'stream_link': 'https://storage.gra.cloud.ovh.net/v1/AUTH_cf288dd96a8a4bc5bbc0ba258e1b93b8/media-storage-prod/1ec2a834-2a67-4162-bbe8-66cb57ca6cb3_bouygues-20s-reseau-plongeon-web-nopetal-ml.mp4'}\n",
            "Failed to download video Green210719-GRANDS-LACS-DE-CHAMPAGNE-v3-1920x1080\n",
            "Failed to download video Friends & Fellows-woman-swimming-in-ocean-and-on-boat-in-the-bahamas-283909-filmsupply\n",
            "Failed to download video php9LcObL\n",
            "Failed to download video phprKiono\n",
            "Failed to download video Baby-Foot De Table - 28376\n",
            "Failed to download video phpjenHVl\n",
            "Failed to download video 15s_34949_MAAF_Credit_15s\n",
            "Failed to download video 1280x720_MAX_1-creme_choco_30s-169_MSB-SonWEB_NRJ Orange Perf Garantie Dailymotion\n",
            "Failed to download video 1280x720_MAX_1-creme_choco_30s-169_MSC-SonWEB_NRJ Orange Perf Garantie Dailymotion\n",
            "Failed to download video 1280x720_30Mo_2-compotes-30s-169_MSC-SonWEB_NRJ IPTV\n",
            "Failed to download video Script 03 - TeÌ‚te aÌ€ teÌ‚te\n",
            "Failed to download video route\n",
            "Failed to download video INTERMARCHE_NOEL_45sA_WEB_1280x720_30Mo_Performance Garantie\n",
            "Failed to download video ValeurParc-crditPnrFO2019\n",
            "Failed to download video bande-demo\n",
            "Failed to download video AXA_20s_RELOGEMENT_16_9_ST_230112_01\n",
            "Failed to download video RENDAC_SANDERO_SEPT_TVC_TAG_GAMME_30s_220830_LOM2_QR_WEB\n",
            "Failed to download video RENDAC_SANDERO_SEPT_TVC_TAG_GAMME_30s_220830_LOM3_QR_WEB\n",
            "Failed to download video RENDAC_SANDERO_SEPT_TVC_TAG_GAMME_30s_220830_LOM1_QR_WEB\n",
            "Failed to download video ren_fr_arkana_fasttrack_display_video_30s_062022_V2\n",
            "Failed to download video phpi2bjU3\n",
            "Failed to download video 15SEC-StreamingVOD_VOL_NONskip_16-9_WEB - Source\n",
            "Failed to download video LE-FIGARO_1920x1080_MAIF_EPARGNE_VOYAGE_15s_ST_221121_MLP\n",
            "Failed to download video 1280x720_MAX_2-compotes-30s-169_MSB-SonWEB_NRJ Orange Perf Garantie Dailymotion\n",
            "Failed to download video 2651099 - OTW_Digital_VIDEO_1920x1080_V2 (1)\n",
            "Failed to download video phpZvnaka\n",
            "Failed to download video RENDAC_JOGGER_SEPT_TVC_TAG_GAMME_30s_220830_LOM2_QR_WEB - Source\n",
            "Failed to download video RENDAC_JOGGER_SEPT_TVC_TAG_GAMME_30s_220830_LOM3_QR_WEB - Source\n",
            "Failed to download video RENDAC_JOGGER_SEPT_TVC_TAG_GAMME_30s_220830_LOM1_QR_WEB - Source\n",
            "Failed to download video BLEU_2022_INSTIT_16x9_30S_VO_28042022\n",
            "Failed to download video REN_DAC_Spring_30_TVC_FR_LOM1_220928\n",
            "Failed to download video REN_DAC_Spring_30_TVC_FR_LOM3_220928\n",
            "Failed to download video REN_DAC_Spring_30_TVC_FR_LOM2_220928\n",
            "Failed to download video PublicitCroquetonParc\n",
            "Failed to download video CD~lefigaro.fr-B_sans PO_LG~FR_CA~None_SZ~15_1920x1080_PR~Peugeot-3008_FM~Video_FF~632414\n",
            "Failed to download video CD~lefigaro.fr-C_sans PO_LG~FR_CA~None_SZ~15_1920x1080_PR~Peugeot-3008_FM~Video_FF~632415\n",
            "Failed to download video CD~lefigaro.fr-A_sans PO_LG~FR_CA~None_SZ~15_1920x1080_PR~Peugeot-3008_FM~Video_FF~632413\n",
            "Failed to download video 1280x720_MAX_4-lardons-30s-169_MSA-SonWEB_NRJ Orange Perf Garantie Dailymotion\n",
            "Failed to download video 1280x720_MAX_4-lardons-30s-169_MSC-SonWEB_NRJ Orange Perf Garantie Dailymotion\n",
            "Failed to download video phpwR3YmB\n",
            "Failed to download video phpU1HS3d\n",
            "Failed to download video phpfzKp8K\n",
            "Failed to download video patate-1280x720\n",
            "Failed to download video 10s_GamingFamille_169_SKIP\n",
            "Failed to download video LOTO_StValentin_15s_TABLEAU_VOL_MLC_ST\n",
            "Failed to download video LOTO_StValentin_15s_TABLEAU_VOL_MLB_ST\n",
            "Failed to download video 10s_Teletravail_2208_169\n",
            "Failed to download video Utiliserlaplateformeobservatoiredelabiodiversit\n",
            "Failed to download video bande-demo - 1920x1080 - 1920x1080 - 1920x1080\n",
            "Failed to download video b026c93e-dd76-41c5-943e-cf0dab8f415f_phppnl1wr\n",
            "Failed to download video blossoms_-_113004 (Original)\n",
            "Failed to download video production ID_4205697\n",
            "Failed to download video Femme - 58142\n",
            "Failed to download video VIDMIZER-15SEC-StreamingVOD_VOL_NONskip_16-9\n",
            "Failed to download video ThomasHooperatVolcomStoreBristol\n",
            "Failed to download video LVMH_KHW_PHASE-1_REPOSSI_16-9_FR_220831\n",
            "Failed to download video UPSA_Dalfeine_17s_MixTv_1\n",
            "Failed to download video Green190902-GRANDS-LACS-DE-CHAMP_1920x1080_AACAudio_3219\n",
            "Failed to download video phpPnmHbX\n",
            "Failed to download video LVMH_KHW_PHASE-1_HENNESSY_16-9_FR_220831\n",
            "Failed to download video bande-demo - 1920x1080 - 1920x1080\n",
            "Failed to download video Sunrise\n",
            "Failed to download video phpy0WcHF\n",
            "Failed to download video INTERMARCHE_NOEL_45sA_WEB_1280x720_15Mo_Dailymotion\n",
            "Failed to download video LVMH_KHW_PHASE-1_BERLUTI_16-9_FR_220831\n",
            "Failed to download video Teaser 30 sec-16 Aout MIXEE TV FLOU + FLOU SUPPLEMENTAIRE\n",
            "Failed to download video PrparationduCheesecake-CroquetonParcauRestau\n",
            "Failed to download video Subway\n",
            "Failed to download video FR_DGPR_PROC_HSMA_0016_010_F_ARPP - Source (1)\n",
            "Failed to download video bande-demo - 1920x1080\n",
            "Failed to download video eurostar-punk-fr-hd1080-25fps-30s-olv-figaro\n",
            "Failed to download video Prparationdurisottodelentillesparlevieuxpressoir-CroquetonParcaurestau\n",
            "Failed to download video phpVFWNHO\n",
            "Failed to download video phpX34tBt\n",
            "Failed to download video glass_video_02\n",
            "Failed to download video phpIJlU2d\n",
            "Failed to download video 1920x1080_MAX_1-creme_choco_30s-169_MSB-SonWEB_\n",
            "Failed to download video Oney+_Video 1_Friperie_Smartphone_nouvelle_carte\n",
            "Failed to download video teaser pascal blain_28sec\n",
            "Failed to download video EnAttendantBojangles 30sec Belle Histoire DATE Teads\n",
            "Failed to download video 1920x1080_MAX_3-cookie-30s-169_MSB_SRT_VF-SonWEB_Teads LagardÃ¨re\n",
            "Failed to download video 1920x1080_MAX_2-compotes-30s-169_MSC-SonWEB_TF1 M6 LagardÃ¨re Instream 366 PlutoTV Rakuten Molotov\n",
            "Failed to download video rochebobois_Film_Paysage_30sec\n",
            "Failed to download video dac-fr-duster-OPO-display-video-16x9-102022-V1-lom2\n",
            "Failed to download video dac-fr-duster-OPO-display-video-16x9-102022-V1-lom3\n",
            "Failed to download video dac-fr-duster-OPO-display-video-16x9-102022-V1-lom1\n",
            "Failed to download video 10s_Teletravail_2208_169 - 1920x1080\n",
            "Failed to download video ILLIKO_MENEZ_ENQUETE_WEB20_NON_SKIP_ECRAN5_VOL - 1920x1080\n",
            "Failed to download video SPE-VideÌo-Flyer-Coqueluche-Janvier-2021\n",
            "Failed to download video phpTUm3Jw\n",
            "Failed to download video Train-hevc\n",
            "Failed to download video ForBiggerJoyrides\n",
            "Failed to download video Episode 4  Etes vous bien prÃ©parÃ© pour entrer dans la vie active    MACIF - Source\n",
            "Failed to download video CNAM Video\n",
            "Failed to download video AAÌƒÂ©roport - 36510 - 1920x1080\n",
            "Failed to download video 65dd1f0c-45c3-43b6-b486-570a343eef41_aa-c-roport-36510-2_greencoded_1920x1080\n",
            "Failed to download video Recette de sapin de noÃ«l au NutellaÂ® (version courte)\n",
            "Failed to download video 10s_REPETEUR_169_SKIP - Source\n",
            "Failed to download video BT_SLP_S3_PASCALE-MUSSARD_TEASER3_V2-avec-sous-titres-mp4-720p-LeFigaro\n",
            "Failed to download video BT_SLP_S3_PASCALE-MUSSARD_TEASER2_V2-avec-sous-titres-mp4-720p-LeFigaro\n",
            "Failed to download video CIC_PODCAST_BB_IA__Teaser 20s_16-9-mp4-720p-LeFigaro\n",
            "Failed to download video BT_SLP_S3_PASCALE-MUSSARD_TEASER1_V2-avec-sous-titres-mp4-720p-LeFigaro\n",
            "Failed to download video phpryZyIe\n",
            "Failed to download video Concert - 1630\n",
            "Failed to download video Maif PreÌvoyance Deces 15- VOL nov 2022_220914\n",
            "Failed to download video Maif PreÌvoyance Deces 15- VOL nov 2022_220914 (2)\n",
            "Failed to download video 20SEC-GamingFamille_VOL_skip_16-9_SRT\n",
            "Failed to download video 210531_CIC_airport_25sec_LeFigaro\n",
            "Failed to download video phpFeLsRv\n",
            "Failed to download video Petit Bateau x Vanessa Schindler\n",
            "Failed to download video Nature - 111508\n",
            "Failed to download video CONSTRUCTIFS_EP11_EMY_HAIGNERE_30s_16x9_220530_SRT-mp4-720p-LeFigaro\n",
            "Failed to download video TeaserFeelParisVSC3_1920x1080_AACAudio_6780.mp4 - Source\n",
            "Failed to download video Papillon - 38947\n",
            "Failed to download video AGIPI ENGAGEMENTS 2021\n",
            "Failed to download video LE_FIGARO_MAIF_TEMOIGNAGE_15_16_9_VF_1\n",
            "Failed to download video CafAÌƒÂ© - 15484\n",
            "Failed to download video Le Figaro_LFF-7a_Movetolux_15sec_1280-720_5Mbps\n",
            "Failed to download video FR-27569_FR_TFFC_PUIG_CAHE_0002_020_F\n",
            "Failed to download video phpB0w6MM\n",
            "Failed to download video LA POSTE_SALON_MEDIAS_FIGARO\n",
            "Failed to download video MASTER_LAPOSTE_GEODISPLAY_MEDIA_FIGARO_720P\n",
            "Failed to download video BR48207_LOR2211_GARNIER_CL_OLIA_END_OF_YEAR_OLV_FR_16X9_15S_PERFORMANCE_FinalMIX_V03\n",
            "Failed to download video BR48207_LOR2211_GARNIER_CL_OLIA_END_OF_YEAR_OLV_FR_16X9_15S_FORMULATION_FinalMIX_V04\n",
            "Failed to download video Bird - 86001\n",
            "Failed to download video bande-demo - 1920x1080 - 1920x1080 - 1920x1080 - 1920x1080\n",
            "Failed to download video VOL TEMOIGNAGE PREVOYANCE NOV22 avant compression\n",
            "Failed to download video 1920x1080_MAX_4-lardons-30s-169_MSA-SonWEB_TF1 M6 LagardÃ¨re Instream 366 PlutoTV Rakuten Molotov\n",
            "Failed to download video 1920x1080_MAX_4-lardons-30s-169_MSB_SRT_VF-SonWEB_Teads LagardÃ¨re\n",
            "Failed to download video 1920x1080_MAX_4-lardons-30s-169_MSC_SRT_VF-SonWEB_Teads LagardÃ¨re\n",
            "Failed to download video lodges_saintecroix_vfr\n",
            "Failed to download video InterM-Papa-60s-TV-v004_220328\n",
            "Failed to download video interm-papa-60s-tv-v004-220328-mp4-source-1\n",
            "Failed to download video INTERMARCHE_NOEL_45sA_WEB_1920x1080_125Mo_Molotov\n",
            "Failed to download video LILLESITEWEB\n",
            "Failed to download video 01_2651099 - OTW_Digital_VIDEO_1920x1080_V2_MP4\n",
            "Failed to download video phpiQ4RgE\n",
            "Failed to download video phpaPNfP5\n"
          ]
        }
      ],
      "source": [
        "# Exécutez cette fonction pour commencer le traitement\n",
        "process_videos(csv_file_path, json_output_folder)"
      ]
    },
    {
      "cell_type": "code",
      "execution_count": null,
      "metadata": {
        "id": "mgZHlrjrdhBi"
      },
      "outputs": [],
      "source": []
    }
  ],
  "metadata": {
    "colab": {
      "provenance": []
    },
    "kernelspec": {
      "display_name": "Python 3",
      "name": "python3"
    },
    "language_info": {
      "name": "python"
    }
  },
  "nbformat": 4,
  "nbformat_minor": 0
}

{
 "cells": [
  {
   "cell_type": "code",
   "execution_count": 1,
   "metadata": {},
   "outputs": [],
   "source": [
    "import csv"
   ]
  },
  {
   "cell_type": "code",
   "execution_count": 10,
   "metadata": {},
   "outputs": [
    {
     "name": "stdout",
     "output_type": "stream",
     "text": [
      "['\\ufeffuuid', 'name', 'duration', 'size', 'video_quality', 'stream_link']\n",
      "{'\\ufeffuuid': '4362facb-f504-4acb-99cb-a45582527ee7', 'name': 'a939b976-9b71-4c8a-9464-faf96d9124c9_phpkrfqxe_1080', 'duration': '53', 'size': '23908610', 'video_quality': '1920x1080', 'stream_link': 'https://storage.gra.cloud.ovh.net/v1/AUTH_cf288dd96a8a4bc5bbc0ba258e1b93b8/media-storage-prod/4362facb-f504-4acb-99cb-a45582527ee7_a939b976-9b71-4c8a-9464-faf96d9124c9-phpkrfqxe-1080.mp4'}\n",
      "f30c6cd8-569c-4671-a272-f4a43826f7ac\n",
      "4362facb-f504-4acb-99cb-a45582527ee7\n",
      "4474fe23-e68e-494b-a3ee-6ef20dfa6c04\n",
      "76d8a451-caf4-41c7-a9e1-45f7f31cb556\n",
      "2a05b3d0-d943-47e1-9c21-0e9865a09270\n",
      "49c73f39-459a-4ea1-afe7-6af486cda370\n",
      "c1e4b406-917a-4432-9573-846f1da66585\n",
      "6c25c344-4301-4498-ba9a-04453b95f38d\n",
      "874f9088-0ec6-4522-95dd-c089c75e9502\n",
      "6668d834-abda-4394-adaa-6fa585973bde\n"
     ]
    }
   ],
   "source": [
    "path = 'dataset.csv'\n",
    "\n",
    "with open(path, 'r') as file:\n",
    "    reader = csv.DictReader(file, delimiter=';')\n",
    "    next(reader)\n",
    "    print(reader.fieldnames)\n",
    "    list = [row for row in reader]\n",
    "\n",
    "print(list[1])\n",
    "\n",
    "for video in list[:10]:\n",
    "    video_id = video['\\ufeffuuid']\n",
    "    print(video_id)"
   ]
  },
  {
   "cell_type": "code",
   "execution_count": null,
   "metadata": {},
   "outputs": [],
   "source": []
  }
 ],
 "metadata": {
  "kernelspec": {
   "display_name": "venv_pfe_ffmpeg",
   "language": "python",
   "name": "python3"
  },
  "language_info": {
   "codemirror_mode": {
    "name": "ipython",
    "version": 3
   },
   "file_extension": ".py",
   "mimetype": "text/x-python",
   "name": "python",
   "nbconvert_exporter": "python",
   "pygments_lexer": "ipython3",
   "version": "3.8.3"
  }
 },
 "nbformat": 4,
 "nbformat_minor": 2
}

{
 "cells": [
  {
   "cell_type": "markdown",
   "metadata": {},
   "source": [
    "# Generation de la database 2D\n"
   ]
  },
  {
   "cell_type": "code",
   "execution_count": 19,
   "metadata": {},
   "outputs": [],
   "source": [
    "### Useful Path ###\n",
    "dataset_3D = '../Database_3D/dataset_train'\n",
    "dataset_test_3D = '../Database_3D/dataset_test'"
   ]
  },
  {
   "cell_type": "code",
   "execution_count": 20,
   "metadata": {},
   "outputs": [],
   "source": [
    "dataset_2D = '../Database_2D/dataset_train'\n",
    "dataset_test_2D = '../Database_2D/dataset_test'"
   ]
  },
  {
   "cell_type": "code",
   "execution_count": 21,
   "metadata": {},
   "outputs": [],
   "source": [
    "##### Librairies #####\n",
    "import os\n",
    "import cv2\n",
    "import subprocess\n",
    "import shutil"
   ]
  },
  {
   "cell_type": "code",
   "execution_count": 22,
   "metadata": {},
   "outputs": [],
   "source": [
    "### Nettoyer la base de donnée ######\n",
    "# remove all the folder of the database\n",
    "shutil.rmtree(dataset_2D)\n",
    "shutil.rmtree(dataset_test_2D)"
   ]
  },
  {
   "cell_type": "code",
   "execution_count": 23,
   "metadata": {},
   "outputs": [],
   "source": [
    "####### Database creation ########\n",
    "os.makedirs(dataset_2D)\n",
    "os.makedirs(dataset_test_2D)"
   ]
  },
  {
   "cell_type": "code",
   "execution_count": 24,
   "metadata": {},
   "outputs": [],
   "source": [
    "id_frame = 0"
   ]
  },
  {
   "cell_type": "code",
   "execution_count": 25,
   "metadata": {},
   "outputs": [
    {
     "name": "stdout",
     "output_type": "stream",
     "text": [
      "vimizer\n",
      "0\n",
      "7\n",
      "6\n",
      "1\n",
      "8\n",
      "4\n",
      "3\n",
      "2\n",
      "5\n",
      "youtube\n",
      "0\n",
      "7\n",
      "6\n",
      "1\n",
      "8\n",
      "4\n",
      "3\n",
      "2\n",
      "5\n",
      "tiktok\n",
      "0\n",
      "7\n",
      "6\n",
      "1\n",
      "8\n",
      "4\n",
      "3\n",
      "2\n",
      "5\n"
     ]
    }
   ],
   "source": [
    "labels_map = {\n",
    "    \"tiktok\": 0 ,\n",
    "    \"vimizer\":1,\n",
    "    \"youtube\": 2 , \n",
    "}\n",
    "########### Train ###################\n",
    "for folder in os.listdir(dataset_3D):\n",
    "    if not folder.endswith('.txt'):\n",
    "        print(folder)\n",
    "        for frame in os.listdir(dataset_3D + '/' + folder):\n",
    "            print(frame)\n",
    "            command = \"cp \" + dataset_3D + '/' + folder + '/' + frame + \" \" + dataset_2D + '/' + str(frame)+'.png'\n",
    "            subprocess.run(command, shell=True)\n",
    "            with open(dataset_2D +'/annotation.txt', 'a') as file:\n",
    "                    \n",
    "                file.write(str(id_frame) + \" \" + str(labels_map[folder])+\"\\n\")\n",
    "            \n"
   ]
  },
  {
   "cell_type": "code",
   "execution_count": 27,
   "metadata": {},
   "outputs": [
    {
     "name": "stdout",
     "output_type": "stream",
     "text": [
      "vimizer\n",
      "9\n",
      "10\n",
      "youtube\n",
      "9\n",
      "10\n",
      "tiktok\n",
      "9\n",
      "10\n"
     ]
    }
   ],
   "source": [
    "############ Test ################\n",
    "for folder in os.listdir(dataset_test_3D):\n",
    "    if not folder.endswith('.txt'):\n",
    "        print(folder)\n",
    "        for frame in os.listdir(dataset_test_3D + '/' + folder):\n",
    "            print(frame)\n",
    "            command = \"cp \" + dataset_test_3D + '/' + folder + '/' + frame + \" \" + dataset_test_2D + '/' + str(frame)+'.png'\n",
    "            subprocess.run(command, shell=True)\n",
    "            with open(dataset_test_2D +'/annotation.txt', 'a') as file:\n",
    "                    \n",
    "                file.write(str(id_frame) + \" \" + str(labels_map[folder])+\"\\n\")"
   ]
  }
 ],
 "metadata": {
  "kernelspec": {
   "display_name": "venv",
   "language": "python",
   "name": "python3"
  },
  "language_info": {
   "codemirror_mode": {
    "name": "ipython",
    "version": 3
   },
   "file_extension": ".py",
   "mimetype": "text/x-python",
   "name": "python",
   "nbconvert_exporter": "python",
   "pygments_lexer": "ipython3",
   "version": "3.9.6"
  }
 },
 "nbformat": 4,
 "nbformat_minor": 2
}

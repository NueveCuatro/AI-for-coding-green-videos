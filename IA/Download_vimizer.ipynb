{
 "cells": [
  {
   "cell_type": "code",
   "execution_count": 1,
   "metadata": {},
   "outputs": [],
   "source": [
    "import os\n",
    "import requests\n",
    "import csv"
   ]
  },
  {
   "cell_type": "code",
   "execution_count": null,
   "metadata": {},
   "outputs": [],
   "source": [
    "csv_file_path = '../bdd/dataset.csv'\n",
    "\n",
    "def download_video(stream_link, video_name):\n",
    "    try:\n",
    "        r = requests.get(stream_link, stream=True)\n",
    "        if r.status_code == 200:\n",
    "            with open(video_name, 'wb') as f:\n",
    "                for chunk in r.iter_content(1024):\n",
    "                    f.write(chunk)\n",
    "            return True\n",
    "        else:\n",
    "            return False\n",
    "    except Exception as e:\n",
    "        print(f\"Error downloading video {video_name}: {e}\")\n",
    "        return False\n",
    "    \n",
    "\n",
    "\n",
    "with open(csv_file_path, mode='r', encoding='utf-8-sig') as file:\n",
    "        csv_reader = csv.DictReader(file, delimiter=';')\n",
    "        next(csv_reader)  # Skip the header after resetting\n",
    "\n",
    "        for row in csv_reader[14]:\n",
    "            video_name = row['name']\n",
    "            stream_link = row['stream_link']\n",
    "            download_video(stream_link, video_name)"
   ]
  }
 ],
 "metadata": {
  "kernelspec": {
   "display_name": "venv",
   "language": "python",
   "name": "python3"
  },
  "language_info": {
   "codemirror_mode": {
    "name": "ipython",
    "version": 3
   },
   "file_extension": ".py",
   "mimetype": "text/x-python",
   "name": "python",
   "nbconvert_exporter": "python",
   "pygments_lexer": "ipython3",
   "version": "3.7.9"
  }
 },
 "nbformat": 4,
 "nbformat_minor": 2
}

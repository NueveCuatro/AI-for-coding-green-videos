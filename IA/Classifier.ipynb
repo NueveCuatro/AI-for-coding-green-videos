{
 "cells": [
  {
   "cell_type": "markdown",
   "metadata": {},
   "source": [
    "### Suivit du tuto blitz de Pytorch pour définir un classifier simple: https://pytorch.org/tutorials/beginner/blitz/cifar10_tutorial.html"
   ]
  },
  {
   "cell_type": "markdown",
   "metadata": {},
   "source": [
    "#### Definition de l'architecture de notre Classifier"
   ]
  },
  {
   "cell_type": "code",
   "execution_count": null,
   "metadata": {},
   "outputs": [],
   "source": [
    "import torch\n",
    "import torch.nn as nn\n",
    "import torch.nn.functional as F\n",
    "\n",
    "class Net(nn.Module):\n",
    "    def __init__(self):\n",
    "        ##################### La fonction init permet d'initialiser les couches du réseau ######################\n",
    "        super().__init__()\n",
    "        self.conv1 = nn.Conv2d(3, 6, 5) # Couche de convolution de 3 canaux en entré, 6 canaux de sortie et un kernet de 5*5\n",
    "        self.pool = nn.MaxPool2d(2, 2)  # Couche de Pooling 2*2 avec un Stride (pas) de 2\n",
    "        self.conv2 = nn.Conv2d(6, 16, 5)\n",
    "        self.fc1 = nn.Linear(16 * 5 * 5, 120) # Couche Fully Connected avec une entré de 1655 et une sortie de 120\n",
    "        self.fc2 = nn.Linear(120, 84)\n",
    "        self.fc3 = nn.Linear(84, 10) # Sortie de 10 \n",
    "\n",
    "        ##################### Définit la phase de forward propagation ######################\n",
    "    def forward(self, x):\n",
    "        x = self.pool(F.relu(self.conv1(x))) # ici on appelle la première couche de convolution, on applique la fonction d'activation et une couche de pooling\n",
    "        x = self.pool(F.relu(self.conv2(x)))\n",
    "        x = torch.flatten(x, 1) # aplatit les données en une seule dimension tout en préservant la taille du batch\n",
    "        x = F.relu(self.fc1(x))\n",
    "        x = F.relu(self.fc2(x))\n",
    "        x = self.fc3(x)\n",
    "        return x\n",
    "\n",
    "\n",
    "net = Net()\n",
    "\n"
   ]
  },
  {
   "cell_type": "markdown",
   "metadata": {},
   "source": [
    "#### Définition des paramètres et métriques "
   ]
  },
  {
   "cell_type": "code",
   "execution_count": null,
   "metadata": {},
   "outputs": [],
   "source": [
    "import torch.optim as optim\n",
    "criterion = nn.CrossEntropyLoss()\n",
    "optimizer = optim.SGD(net.parameters(), lr=0.001, momentum=0.9)\n",
    "epochs = 2"
   ]
  },
  {
   "cell_type": "markdown",
   "metadata": {},
   "source": [
    "#### Entrainement du modèle "
   ]
  },
  {
   "cell_type": "code",
   "execution_count": null,
   "metadata": {},
   "outputs": [],
   "source": [
    "\n",
    "for epoch in range(epochs):  # loop over the dataset multiple times\n",
    "\n",
    "    running_loss = 0.0 # On initialise à 0 la perte en début d'epoch pour calculer la perte moyenne sur tous les mini-batch\n",
    "\n",
    "    for i, data in enumerate(trainloader, 0): # i: indice de mini batch et data: contenu du mini batch\n",
    "\n",
    "        # On récupère l'input et le label en deux variables distinctes\n",
    "        inputs, labels = data\n",
    "\n",
    "        # Réinitialise les gradients des paramètres du modèle à zéro\n",
    "        optimizer.zero_grad()\n",
    "\n",
    "        # Phase Forward\n",
    "        outputs = net(inputs)\n",
    "        # calcule la perte (erreur) entre les prédictions et les étiquettes réelles du mini-batch\n",
    "        loss = criterion(outputs, labels)\n",
    "        # effectue la rétropropagation pour calculer les gradients des paramètres par rapport à la perte\n",
    "        loss.backward()\n",
    "        # met à jour les poids du réseau en fonction des gradients calculés via l'optimiseur\n",
    "        optimizer.step()\n",
    "\n",
    "        # On met à jour la perte \n",
    "        running_loss += loss.item()\n",
    "\n",
    "        # Affiche la perte tous les 2000 mini-batches (Peut-être à modifier CARL)\n",
    "        if i % 2000 == 1999:    \n",
    "            print(f'[{epoch + 1}, {i + 1:5d}] loss: {running_loss / 2000:.3f}')\n",
    "            running_loss = 0.0\n",
    "\n",
    "print('Finished Training')"
   ]
  },
  {
   "cell_type": "markdown",
   "metadata": {},
   "source": [
    "#### Sauvegarde du modèle "
   ]
  },
  {
   "cell_type": "code",
   "execution_count": null,
   "metadata": {},
   "outputs": [],
   "source": [
    "PATH = './cifar_net.pth'\n",
    "torch.save(net.state_dict(), PATH)\n",
    "# state_dict() est une méthode de la classe nn.Module en PyTorch \n",
    "# qui renvoie un dictionnaire contenant les poids et les biais du modèle."
   ]
  },
  {
   "cell_type": "markdown",
   "metadata": {},
   "source": [
    "#### Test de Network sur un Minibatches"
   ]
  },
  {
   "cell_type": "markdown",
   "metadata": {},
   "source": [
    "##### Ici on affiche juste les 4 premieres images et labels associés d'un mini-batch"
   ]
  },
  {
   "cell_type": "code",
   "execution_count": null,
   "metadata": {},
   "outputs": [],
   "source": [
    "dataiter = iter(testloader) # Ici on itère sur le dataset de test\n",
    "images, labels = next(dataiter) # On récupère le prochain mini-batch \n",
    "\n",
    "# Affiche les 4 premieresimages du mini-batch et le label associé\n",
    "imshow(torchvision.utils.make_grid(images))\n",
    "print('GroundTruth: ', ' '.join(f'{classes[labels[j]]:5s}' for j in range(4)))"
   ]
  },
  {
   "cell_type": "code",
   "execution_count": null,
   "metadata": {},
   "outputs": [],
   "source": [
    "### Si on a besoin de recharger le modèle voilà la commande ###\n",
    "net = Net()\n",
    "net.load_state_dict(torch.load(PATH))"
   ]
  },
  {
   "cell_type": "markdown",
   "metadata": {},
   "source": [
    "##### Pour ce même mini-batches on regarde la prédiction de notre modèle"
   ]
  },
  {
   "cell_type": "code",
   "execution_count": null,
   "metadata": {},
   "outputs": [],
   "source": [
    "### Result sur une video test ###\n",
    "outputs = net(images) # On effectue la forward propagation pour l'ensebles des images du mini-batches (génère des labels prédits)\n",
    "_, predicted = torch.max(outputs, 1) # Pour chaque image dans le lot on renvoye les valeurs maximales des classes prédictes (-) et les labels associés (predicted)\n",
    "# On affiche ces labels \n",
    "print('Predicted: ', ' '.join(f'{classes[predicted[j]]:5s}'\n",
    "                              for j in range(4)))"
   ]
  },
  {
   "cell_type": "markdown",
   "metadata": {},
   "source": [
    "#### Test de Network sur tout le dataset de Test pour obtenir l'accuracy du modèle sur ce dataset"
   ]
  },
  {
   "cell_type": "code",
   "execution_count": null,
   "metadata": {},
   "outputs": [],
   "source": [
    "# On initialise notre compteur des labels correctement prédit \n",
    "correct = 0\n",
    "total = 0\n",
    "# Ici nous n'aurons pas besoin de calculer les gradient nous n'utilisons que la forward propagation \n",
    "# pour la prédiction des labels \n",
    "# Les étapes sont les mêmes que précédement\n",
    "with torch.no_grad():\n",
    "    for data in testloader: #  data: contenu du mini batch\n",
    "        # On récupère l'input et le label en deux variables distinctes\n",
    "        images, labels = data\n",
    "        # Forward des images dans le réseau\n",
    "        outputs = net(images)\n",
    "        # La classe avec le score le plus élevé est choisit comme label\n",
    "        _, predicted = torch.max(outputs.data, 1)\n",
    "        total += labels.size(0) #incrémente le compteur total par le nombre d'images dans le mini-lot.\n",
    "        correct += (predicted == labels).sum().item() \n",
    "        #compare les prédictions du modèle avec les étiquettes réelles pour calculer le nombre d'images \n",
    "        #correctement prédites dans le mini-lot et l'ajoute à correct.\n",
    "\n",
    "print(f'Accuracy of the network on the 10000 test images: {100 * correct // total} %')"
   ]
  },
  {
   "cell_type": "markdown",
   "metadata": {},
   "source": [
    "#### Test de Network sur tout le dataset de Test pour obtenir l'accuracy du modèle mais sur chacune des classes"
   ]
  },
  {
   "cell_type": "code",
   "execution_count": null,
   "metadata": {},
   "outputs": [],
   "source": [
    "# prepare to count predictions for each class\n",
    "correct_pred = {classname: 0 for classname in classes}\n",
    "total_pred = {classname: 0 for classname in classes}\n",
    "\n",
    "# again no gradients needed\n",
    "with torch.no_grad():\n",
    "    for data in testloader:\n",
    "        \n",
    "        images, labels = data\n",
    "        outputs = net(images)\n",
    "        _, predictions = torch.max(outputs, 1)\n",
    "        # collect the correct predictions for each class\n",
    "        for label, prediction in zip(labels, predictions):\n",
    "            if label == prediction:\n",
    "                correct_pred[classes[label]] += 1\n",
    "            total_pred[classes[label]] += 1\n",
    "\n",
    "# print accuracy for each class\n",
    "for classname, correct_count in correct_pred.items():\n",
    "    accuracy = 100 * float(correct_count) / total_pred[classname]\n",
    "    print(f'Accuracy for class: {classname:5s} is {accuracy:.1f} %')"
   ]
  },
  {
   "cell_type": "markdown",
   "metadata": {},
   "source": [
    "#### Command Line pour entrainement sur GPU "
   ]
  },
  {
   "cell_type": "code",
   "execution_count": null,
   "metadata": {},
   "outputs": [],
   "source": [
    "device = torch.device('cuda:0' if torch.cuda.is_available() else 'cpu')\n",
    "# Assuming that we are on a CUDA machine, this should print a CUDA device:\n",
    "print(device)\n"
   ]
  },
  {
   "cell_type": "code",
   "execution_count": null,
   "metadata": {},
   "outputs": [],
   "source": [
    "net.to(device)"
   ]
  },
  {
   "cell_type": "code",
   "execution_count": null,
   "metadata": {},
   "outputs": [],
   "source": [
    "inputs, labels = data[0].to(device), data[1].to(device)"
   ]
  }
 ],
 "metadata": {
  "language_info": {
   "name": "python"
  }
 },
 "nbformat": 4,
 "nbformat_minor": 2
}

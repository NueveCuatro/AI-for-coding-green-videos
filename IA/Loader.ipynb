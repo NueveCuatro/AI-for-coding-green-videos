{
 "cells": [
  {
   "cell_type": "markdown",
   "metadata": {},
   "source": [
    "# DataLoader\n",
    "<p> Tutorial link: https://github.com/RaivoKoot/Video-Dataset-Loading-Pytorch or https://video-dataset-loading-pytorch.readthedocs.io/en/latest/ </p>"
   ]
  },
  {
   "cell_type": "markdown",
   "metadata": {},
   "source": [
    "## Database preparation\n",
    "<li> Input : 3 folders named ( tiktok, youtube, vimizer) which contains the mp4 videos  </li>\n",
    "<li> For each Folders : Create an homologue folder which contains num_videos folders. All of these folders named by the index of the video contain each frames of the same video. </li>\n",
    "<li> Annotations.txt file generation </li>"
   ]
  },
  {
   "cell_type": "markdown",
   "metadata": {},
   "source": [
    "### Creation of the architecture"
   ]
  },
  {
   "cell_type": "code",
   "execution_count": 46,
   "metadata": {},
   "outputs": [],
   "source": [
    "### Useful Path ###\n",
    "dataset_video= 'dataset_video'\n",
    "dataset = 'dataset'"
   ]
  },
  {
   "cell_type": "code",
   "execution_count": 47,
   "metadata": {},
   "outputs": [],
   "source": [
    "##### Librairies #####\n",
    "import os\n",
    "import cv2\n",
    "import subprocess\n",
    "import shutil"
   ]
  },
  {
   "cell_type": "code",
   "execution_count": 48,
   "metadata": {},
   "outputs": [],
   "source": [
    "### Nettoyer la base de donnée ######\n",
    "# remove all the folder of the database\n",
    "shutil.rmtree(dataset)\n"
   ]
  },
  {
   "cell_type": "code",
   "execution_count": 49,
   "metadata": {},
   "outputs": [
    {
     "name": "stdout",
     "output_type": "stream",
     "text": [
      "creation of the folder vimizer\n"
     ]
    },
    {
     "name": "stderr",
     "output_type": "stream",
     "text": [
      "ffmpeg version 6.0 Copyright (c) 2000-2023 the FFmpeg developers\n",
      "  built with Apple clang version 15.0.0 (clang-1500.0.40.1)\n",
      "  configuration: --prefix=/opt/homebrew/Cellar/ffmpeg/6.0_1 --enable-shared --enable-pthreads --enable-version3 --cc=clang --host-cflags= --host-ldflags='-Wl,-ld_classic' --enable-ffplay --enable-gnutls --enable-gpl --enable-libaom --enable-libaribb24 --enable-libbluray --enable-libdav1d --enable-libjxl --enable-libmp3lame --enable-libopus --enable-librav1e --enable-librist --enable-librubberband --enable-libsnappy --enable-libsrt --enable-libsvtav1 --enable-libtesseract --enable-libtheora --enable-libvidstab --enable-libvmaf --enable-libvorbis --enable-libvpx --enable-libwebp --enable-libx264 --enable-libx265 --enable-libxml2 --enable-libxvid --enable-lzma --enable-libfontconfig --enable-libfreetype --enable-frei0r --enable-libass --enable-libopencore-amrnb --enable-libopencore-amrwb --enable-libopenjpeg --enable-libspeex --enable-libsoxr --enable-libzmq --enable-libzimg --disable-libjack --disable-indev=jack --enable-videotoolbox --enable-audiotoolbox --enable-neon\n",
      "  libavutil      58.  2.100 / 58.  2.100\n",
      "  libavcodec     60.  3.100 / 60.  3.100\n",
      "  libavformat    60.  3.100 / 60.  3.100\n",
      "  libavdevice    60.  1.100 / 60.  1.100\n",
      "  libavfilter     9.  3.100 /  9.  3.100\n",
      "  libswscale      7.  1.100 /  7.  1.100\n",
      "  libswresample   4. 10.100 /  4. 10.100\n",
      "  libpostproc    57.  1.100 / 57.  1.100\n",
      "Input #0, mov,mp4,m4a,3gp,3g2,mj2, from 'dataset_video/vimizer/totoro_vf.mp4':\n",
      "  Metadata:\n",
      "    major_brand     : mp42\n",
      "    minor_version   : 1\n",
      "    compatible_brands: isommp41mp42\n",
      "    creation_time   : 2023-10-03T15:02:44.000000Z\n",
      "  Duration: 00:00:05.83, start: 0.000000, bitrate: 10191 kb/s\n",
      "  Stream #0:0[0x1](und): Video: h264 (High) (avc1 / 0x31637661), yuv420p(progressive), 1920x1080 [SAR 1:1 DAR 16:9], 10188 kb/s, 24 fps, 24 tbr, 12288 tbn (default)\n",
      "    Metadata:\n",
      "      creation_time   : 2023-10-03T15:02:44.000000Z\n",
      "      handler_name    : Core Media Video\n",
      "      vendor_id       : [0][0][0][0]\n",
      "Stream mapping:\n",
      "  Stream #0:0 -> #0:0 (h264 (native) -> png (native))\n",
      "Press [q] to stop, [?] for help\n",
      "[swscaler @ 0x158070000] [swscaler @ 0x1500b0000] No accelerated colorspace conversion found from yuv420p to rgb24.\n",
      "[swscaler @ 0x158070000] [swscaler @ 0x121540000] No accelerated colorspace conversion found from yuv420p to rgb24.\n",
      "[swscaler @ 0x158070000] [swscaler @ 0x121550000] No accelerated colorspace conversion found from yuv420p to rgb24.\n",
      "[swscaler @ 0x158070000] [swscaler @ 0x121560000] No accelerated colorspace conversion found from yuv420p to rgb24.\n",
      "[swscaler @ 0x158070000] [swscaler @ 0x121570000] No accelerated colorspace conversion found from yuv420p to rgb24.\n",
      "[swscaler @ 0x158070000] [swscaler @ 0x121580000] No accelerated colorspace conversion found from yuv420p to rgb24.\n",
      "[swscaler @ 0x158070000] [swscaler @ 0x121590000] No accelerated colorspace conversion found from yuv420p to rgb24.\n",
      "[swscaler @ 0x158070000] [swscaler @ 0x1215a0000] No accelerated colorspace conversion found from yuv420p to rgb24.\n",
      "[swscaler @ 0x158070000] [swscaler @ 0x1215b0000] No accelerated colorspace conversion found from yuv420p to rgb24.\n",
      "Output #0, image2, to 'dataset/vimizer/0/img_%05d.png':\n",
      "  Metadata:\n",
      "    major_brand     : mp42\n",
      "    minor_version   : 1\n",
      "    compatible_brands: isommp41mp42\n",
      "    encoder         : Lavf60.3.100\n",
      "  Stream #0:0(und): Video: png, rgb24(pc, gbr/unknown/unknown, progressive), 1920x1080 [SAR 1:1 DAR 16:9], q=2-31, 200 kb/s, 2 fps, 2 tbn (default)\n",
      "    Metadata:\n",
      "      creation_time   : 2023-10-03T15:02:44.000000Z\n",
      "      handler_name    : Core Media Video\n",
      "      vendor_id       : [0][0][0][0]\n",
      "      encoder         : Lavc60.3.100 png\n",
      "frame=   12 fps=0.0 q=-0.0 Lsize=N/A time=00:00:05.50 bitrate=N/A speed=8.66x    ts/s speed=N/A    \n",
      "video:11560kB audio:0kB subtitle:0kB other streams:0kB global headers:0kB muxing overhead: unknown\n",
      "ffmpeg version 6.0 Copyright (c) 2000-2023 the FFmpeg developers\n",
      "  built with Apple clang version 15.0.0 (clang-1500.0.40.1)\n",
      "  configuration: --prefix=/opt/homebrew/Cellar/ffmpeg/6.0_1 --enable-shared --enable-pthreads --enable-version3 --cc=clang --host-cflags= --host-ldflags='-Wl,-ld_classic' --enable-ffplay --enable-gnutls --enable-gpl --enable-libaom --enable-libaribb24 --enable-libbluray --enable-libdav1d --enable-libjxl --enable-libmp3lame --enable-libopus --enable-librav1e --enable-librist --enable-librubberband --enable-libsnappy --enable-libsrt --enable-libsvtav1 --enable-libtesseract --enable-libtheora --enable-libvidstab --enable-libvmaf --enable-libvorbis --enable-libvpx --enable-libwebp --enable-libx264 --enable-libx265 --enable-libxml2 --enable-libxvid --enable-lzma --enable-libfontconfig --enable-libfreetype --enable-frei0r --enable-libass --enable-libopencore-amrnb --enable-libopencore-amrwb --enable-libopenjpeg --enable-libspeex --enable-libsoxr --enable-libzmq --enable-libzimg --disable-libjack --disable-indev=jack --enable-videotoolbox --enable-audiotoolbox --enable-neon\n",
      "  libavutil      58.  2.100 / 58.  2.100\n",
      "  libavcodec     60.  3.100 / 60.  3.100\n",
      "  libavformat    60.  3.100 / 60.  3.100\n",
      "  libavdevice    60.  1.100 / 60.  1.100\n",
      "  libavfilter     9.  3.100 /  9.  3.100\n",
      "  libswscale      7.  1.100 /  7.  1.100\n",
      "  libswresample   4. 10.100 /  4. 10.100\n",
      "  libpostproc    57.  1.100 / 57.  1.100\n",
      "Input #0, mov,mp4,m4a,3gp,3g2,mj2, from 'dataset_video/youtube/totoro_vf.mp4':\n",
      "  Metadata:\n",
      "    major_brand     : mp42\n",
      "    minor_version   : 1\n",
      "    compatible_brands: isommp41mp42\n",
      "    creation_time   : 2023-10-03T15:02:44.000000Z\n",
      "  Duration: 00:00:05.83, start: 0.000000, bitrate: 10191 kb/s\n",
      "  Stream #0:0[0x1](und): Video: h264 (High) (avc1 / 0x31637661), yuv420p(progressive), 1920x1080 [SAR 1:1 DAR 16:9], 10188 kb/s, 24 fps, 24 tbr, 12288 tbn (default)\n",
      "    Metadata:\n",
      "      creation_time   : 2023-10-03T15:02:44.000000Z\n",
      "      handler_name    : Core Media Video\n",
      "      vendor_id       : [0][0][0][0]\n",
      "Stream mapping:\n",
      "  Stream #0:0 -> #0:0 (h264 (native) -> png (native))\n",
      "Press [q] to stop, [?] for help\n"
     ]
    },
    {
     "name": "stdout",
     "output_type": "stream",
     "text": [
      "creation of the folder youtube\n"
     ]
    },
    {
     "name": "stderr",
     "output_type": "stream",
     "text": [
      "[swscaler @ 0x1402e8000] [swscaler @ 0x148008000] No accelerated colorspace conversion found from yuv420p to rgb24.\n",
      "[swscaler @ 0x1402e8000] [swscaler @ 0x150008000] No accelerated colorspace conversion found from yuv420p to rgb24.\n",
      "[swscaler @ 0x1402e8000] [swscaler @ 0x150018000] No accelerated colorspace conversion found from yuv420p to rgb24.\n",
      "[swscaler @ 0x1402e8000] [swscaler @ 0x150028000] No accelerated colorspace conversion found from yuv420p to rgb24.\n",
      "[swscaler @ 0x1402e8000] [swscaler @ 0x150038000] No accelerated colorspace conversion found from yuv420p to rgb24.\n",
      "[swscaler @ 0x1402e8000] [swscaler @ 0x150048000] No accelerated colorspace conversion found from yuv420p to rgb24.\n",
      "[swscaler @ 0x1402e8000] [swscaler @ 0x150058000] No accelerated colorspace conversion found from yuv420p to rgb24.\n",
      "[swscaler @ 0x1402e8000] [swscaler @ 0x150068000] No accelerated colorspace conversion found from yuv420p to rgb24.\n",
      "[swscaler @ 0x1402e8000] [swscaler @ 0x150078000] No accelerated colorspace conversion found from yuv420p to rgb24.\n",
      "Output #0, image2, to 'dataset/youtube/0/img_%05d.png':\n",
      "  Metadata:\n",
      "    major_brand     : mp42\n",
      "    minor_version   : 1\n",
      "    compatible_brands: isommp41mp42\n",
      "    encoder         : Lavf60.3.100\n",
      "  Stream #0:0(und): Video: png, rgb24(pc, gbr/unknown/unknown, progressive), 1920x1080 [SAR 1:1 DAR 16:9], q=2-31, 200 kb/s, 2 fps, 2 tbn (default)\n",
      "    Metadata:\n",
      "      creation_time   : 2023-10-03T15:02:44.000000Z\n",
      "      handler_name    : Core Media Video\n",
      "      vendor_id       : [0][0][0][0]\n",
      "      encoder         : Lavc60.3.100 png\n",
      "frame=   12 fps=0.0 q=-0.0 Lsize=N/A time=00:00:05.50 bitrate=N/A speed=7.58x    ts/s speed=N/A    \n",
      "video:11560kB audio:0kB subtitle:0kB other streams:0kB global headers:0kB muxing overhead: unknown\n"
     ]
    },
    {
     "name": "stdout",
     "output_type": "stream",
     "text": [
      "creation of the folder tiktok\n"
     ]
    },
    {
     "name": "stderr",
     "output_type": "stream",
     "text": [
      "ffmpeg version 6.0 Copyright (c) 2000-2023 the FFmpeg developers\n",
      "  built with Apple clang version 15.0.0 (clang-1500.0.40.1)\n",
      "  configuration: --prefix=/opt/homebrew/Cellar/ffmpeg/6.0_1 --enable-shared --enable-pthreads --enable-version3 --cc=clang --host-cflags= --host-ldflags='-Wl,-ld_classic' --enable-ffplay --enable-gnutls --enable-gpl --enable-libaom --enable-libaribb24 --enable-libbluray --enable-libdav1d --enable-libjxl --enable-libmp3lame --enable-libopus --enable-librav1e --enable-librist --enable-librubberband --enable-libsnappy --enable-libsrt --enable-libsvtav1 --enable-libtesseract --enable-libtheora --enable-libvidstab --enable-libvmaf --enable-libvorbis --enable-libvpx --enable-libwebp --enable-libx264 --enable-libx265 --enable-libxml2 --enable-libxvid --enable-lzma --enable-libfontconfig --enable-libfreetype --enable-frei0r --enable-libass --enable-libopencore-amrnb --enable-libopencore-amrwb --enable-libopenjpeg --enable-libspeex --enable-libsoxr --enable-libzmq --enable-libzimg --disable-libjack --disable-indev=jack --enable-videotoolbox --enable-audiotoolbox --enable-neon\n",
      "  libavutil      58.  2.100 / 58.  2.100\n",
      "  libavcodec     60.  3.100 / 60.  3.100\n",
      "  libavformat    60.  3.100 / 60.  3.100\n",
      "  libavdevice    60.  1.100 / 60.  1.100\n",
      "  libavfilter     9.  3.100 /  9.  3.100\n",
      "  libswscale      7.  1.100 /  7.  1.100\n",
      "  libswresample   4. 10.100 /  4. 10.100\n",
      "  libpostproc    57.  1.100 / 57.  1.100\n",
      "Input #0, mov,mp4,m4a,3gp,3g2,mj2, from 'dataset_video/tiktok/totoro_vf.mp4':\n",
      "  Metadata:\n",
      "    major_brand     : mp42\n",
      "    minor_version   : 1\n",
      "    compatible_brands: isommp41mp42\n",
      "    creation_time   : 2023-10-03T15:02:44.000000Z\n",
      "  Duration: 00:00:05.83, start: 0.000000, bitrate: 10191 kb/s\n",
      "  Stream #0:0[0x1](und): Video: h264 (High) (avc1 / 0x31637661), yuv420p(progressive), 1920x1080 [SAR 1:1 DAR 16:9], 10188 kb/s, 24 fps, 24 tbr, 12288 tbn (default)\n",
      "    Metadata:\n",
      "      creation_time   : 2023-10-03T15:02:44.000000Z\n",
      "      handler_name    : Core Media Video\n",
      "      vendor_id       : [0][0][0][0]\n",
      "Stream mapping:\n",
      "  Stream #0:0 -> #0:0 (h264 (native) -> png (native))\n",
      "Press [q] to stop, [?] for help\n",
      "[swscaler @ 0x148018000] [swscaler @ 0x148028000] No accelerated colorspace conversion found from yuv420p to rgb24.\n",
      "[swscaler @ 0x148018000] [swscaler @ 0x148038000] No accelerated colorspace conversion found from yuv420p to rgb24.\n",
      "[swscaler @ 0x148018000] [swscaler @ 0x148048000] No accelerated colorspace conversion found from yuv420p to rgb24.\n",
      "[swscaler @ 0x148018000] [swscaler @ 0x148058000] No accelerated colorspace conversion found from yuv420p to rgb24.\n",
      "[swscaler @ 0x148018000] [swscaler @ 0x148068000] No accelerated colorspace conversion found from yuv420p to rgb24.\n",
      "[swscaler @ 0x148018000] [swscaler @ 0x148078000] No accelerated colorspace conversion found from yuv420p to rgb24.\n",
      "[swscaler @ 0x148018000] [swscaler @ 0x148088000] No accelerated colorspace conversion found from yuv420p to rgb24.\n",
      "[swscaler @ 0x148018000] [swscaler @ 0x148098000] No accelerated colorspace conversion found from yuv420p to rgb24.\n",
      "[swscaler @ 0x148018000] [swscaler @ 0x1480a8000] No accelerated colorspace conversion found from yuv420p to rgb24.\n",
      "Output #0, image2, to 'dataset/tiktok/0/img_%05d.png':\n",
      "  Metadata:\n",
      "    major_brand     : mp42\n",
      "    minor_version   : 1\n",
      "    compatible_brands: isommp41mp42\n",
      "    encoder         : Lavf60.3.100\n",
      "  Stream #0:0(und): Video: png, rgb24(pc, gbr/unknown/unknown, progressive), 1920x1080 [SAR 1:1 DAR 16:9], q=2-31, 200 kb/s, 2 fps, 2 tbn (default)\n",
      "    Metadata:\n",
      "      creation_time   : 2023-10-03T15:02:44.000000Z\n",
      "      handler_name    : Core Media Video\n",
      "      vendor_id       : [0][0][0][0]\n",
      "      encoder         : Lavc60.3.100 png\n",
      "frame=   12 fps=0.0 q=-0.0 Lsize=N/A time=00:00:05.50 bitrate=N/A speed=6.43x    ts/s speed=N/A    \n",
      "video:11560kB audio:0kB subtitle:0kB other streams:0kB global headers:0kB muxing overhead: unknown\n"
     ]
    }
   ],
   "source": [
    "####### Database creation ########\n",
    "os.makedirs(dataset)\n",
    "classe=-1\n",
    "\n",
    "for folder in os.listdir(dataset_video):\n",
    "\n",
    "    classe=classe+1\n",
    "\n",
    "    folder_path = dataset + '/'+ folder\n",
    "    os.makedirs(folder_path)\n",
    "    print('creation of the folder ' + folder)\n",
    "    \n",
    "    folder_video_path = dataset_video + '/'+ folder\n",
    "\n",
    "    for i, video in  enumerate(os.listdir(folder_video_path)) :\n",
    "\n",
    "        video_path = folder_video_path + '/' + video\n",
    "        output_folder_video_path = folder_path + '/' + str(i)\n",
    "\n",
    "        # Creation of the frame folder for the video i \n",
    "        os.makedirs(output_folder_video_path)\n",
    "\n",
    "        # Extraction of the frames in this folder\n",
    "        command = \"ffmpeg -i \" + video_path + \" -vf fps=2 \" + output_folder_video_path +\"/img_%05d.png\"\n",
    "        subprocess.run(command, shell=True)\n",
    "\n",
    "        #Ajout de la ligne dans annotation.txt\n",
    "        elements = os.listdir(output_folder_video_path)\n",
    "        compteur= len(elements)\n",
    "       \n",
    "\n",
    "        with open('annotation.txt', 'a') as file:\n",
    "            file.write(folder + '/' + str(i)+ \" \" + str(compteur) + \" \" + str(classe) + \"\\n\")\n",
    "\n",
    "        "
   ]
  }
 ],
 "metadata": {
  "kernelspec": {
   "display_name": "venv",
   "language": "python",
   "name": "python3"
  },
  "language_info": {
   "codemirror_mode": {
    "name": "ipython",
    "version": 3
   },
   "file_extension": ".py",
   "mimetype": "text/x-python",
   "name": "python",
   "nbconvert_exporter": "python",
   "pygments_lexer": "ipython3",
   "version": "3.9.6"
  }
 },
 "nbformat": 4,
 "nbformat_minor": 2
}

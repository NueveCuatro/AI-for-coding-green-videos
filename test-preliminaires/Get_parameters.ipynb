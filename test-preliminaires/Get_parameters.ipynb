{
 "cells": [
  {
   "cell_type": "markdown",
   "metadata": {},
   "source": [
    "## This code allows to extract parameters used to compress the following video\n",
    "<p> You have to use the .py here its just to understand the process </p>"
   ]
  },
  {
   "cell_type": "code",
   "execution_count": null,
   "metadata": {},
   "outputs": [],
   "source": [
    "############## Library #############\n",
    "import subprocess\n",
    "import json"
   ]
  },
  {
   "cell_type": "code",
   "execution_count": null,
   "metadata": {},
   "outputs": [],
   "source": [
    "############ Path of the video ########\n",
    "video_path = \"totoro_vf.mp4\" "
   ]
  },
  {
   "cell_type": "code",
   "execution_count": null,
   "metadata": {},
   "outputs": [],
   "source": [
    "############ Command and option use with ffprobe ############\n",
    "command = [\"ffprobe\", \"-v\", \"error\", \"-select_streams\", \"v:0\", \"-show_entries\", \"stream=width,height,codec_name\", \"-of\", \"json\", video_path]"
   ]
  },
  {
   "cell_type": "markdown",
   "metadata": {},
   "source": [
    "<ul>\n",
    "    <li>\n",
    "        <strong>\"ffprobe\"</strong>: Le nom de la commande que vous souhaitez exécuter, c'est-à-dire ffprobe.\n",
    "    </li>\n",
    "    <li>\n",
    "        <strong>\"-v\", \"error\"</strong>: Options de la commande ffprobe. \"-v\" signifie le niveau de verbosité, et \"error\" est utilisé pour afficher uniquement les erreurs.\n",
    "    </li>\n",
    "    <li>\n",
    "        <strong>\"-select_streams\", \"v:0\"</strong>: Option de ffprobe pour sélectionner le flux vidéo 0 (le premier flux vidéo) dans le fichier.\n",
    "    </li>\n",
    "    <li>\n",
    "        <strong>\"-show_entries\", \"stream=width,height,codec_name\"</strong>: Cette option indique à ffprobe de montrer certaines entrées spécifiques liées au flux vidéo, comme la largeur, la hauteur et le nom du codec utilisé.\n",
    "    </li>\n",
    "    <li>\n",
    "        <strong>\"-of\", \"json\"</strong>: Spécifie le format de sortie des informations extraites par ffprobe, qui est JSON dans cet exemple.\n",
    "    </li>\n",
    "    <li>\n",
    "        <strong>video_path</strong>: L'argument de la commande\n",
    "    </li>\n",
    "</ul>\n"
   ]
  },
  {
   "cell_type": "code",
   "execution_count": null,
   "metadata": {},
   "outputs": [],
   "source": [
    "################# Récupération des paramètres dans le fichier .json#########\n",
    "try:\n",
    "    # Exécutez la commande ffprobe et capturez la sortie\n",
    "    result = subprocess.Popen(command, stdout=subprocess.PIPE, stderr=subprocess.PIPE, universal_newlines=True)\n",
    "    output, _ = result.communicate() ###### On récupere la sortie \n",
    "    # Analysez la sortie JSON\n",
    "    video_info = json.loads(output) ###### On la lit car elle est en JSON\n",
    "\n",
    "except Exception as e:\n",
    "    execption = str(e)\n",
    "\n"
   ]
  }
 ],
 "metadata": {
  "kernelspec": {
   "display_name": "Python 3",
   "language": "python",
   "name": "python3"
  },
  "language_info": {
   "codemirror_mode": {
    "name": "ipython",
    "version": 3
   },
   "file_extension": ".py",
   "mimetype": "text/x-python",
   "name": "python",
   "nbconvert_exporter": "python",
   "pygments_lexer": "ipython3",
   "version": "3.11.5"
  }
 },
 "nbformat": 4,
 "nbformat_minor": 2
}

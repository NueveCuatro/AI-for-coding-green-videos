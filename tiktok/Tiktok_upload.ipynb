{
 "cells": [
  {
   "cell_type": "markdown",
   "metadata": {},
   "source": [
    "## Suivit du tutoriel: https://pypi.org/project/tiktok-uploader/"
   ]
  },
  {
   "cell_type": "markdown",
   "metadata": {},
   "source": [
    "### Partie pour l'identification sur Tiktok\n",
    "#### Ici il suffit de créer le ichier cookie.txt à partir du tutoriel "
   ]
  },
  {
   "cell_type": "markdown",
   "metadata": {},
   "source": [
    "### Custom Web Driver pour éviter d'être vite detecter par tiktok"
   ]
  },
  {
   "cell_type": "code",
   "execution_count": 1,
   "metadata": {},
   "outputs": [],
   "source": [
    "from selenium.webdriver.chrome.options import Options\n",
    "\n",
    "options = Options()\n",
    "\n",
    "options.add_argument('start-maximized')"
   ]
  },
  {
   "cell_type": "markdown",
   "metadata": {},
   "source": [
    "### Création de la liste contenant les vidéos "
   ]
  },
  {
   "cell_type": "code",
   "execution_count": 2,
   "metadata": {},
   "outputs": [
    {
     "name": "stderr",
     "output_type": "stream",
     "text": [
      "[16:57:18] \u001b[92mAuthenticating browser with cookies\u001b[0m\n"
     ]
    }
   ],
   "source": [
    "from tiktok_uploader.upload import  upload_videos\n",
    "from tiktok_uploader.auth import AuthBackend\n",
    "\n",
    "# Multiple Videos\n",
    "videos = [\n",
    "    {\n",
    "        'path': '../totoro_vf.mp4', \n",
    "        'description': 'Description 1'\n",
    "    },\n",
    "    # {\n",
    "    #     'path': 'video2.mp4', \n",
    "    #     'description': 'this is also my description'\n",
    "    # }\n",
    "]\n",
    "\n",
    "auth = AuthBackend(cookies='cookies.txt')\n"
   ]
  },
  {
   "cell_type": "markdown",
   "metadata": {},
   "source": [
    "### Upload des vidéos "
   ]
  },
  {
   "cell_type": "code",
   "execution_count": 3,
   "metadata": {},
   "outputs": [
    {
     "name": "stderr",
     "output_type": "stream",
     "text": [
      "[16:57:19] Create a chrome browser instance in headless mode\n"
     ]
    },
    {
     "name": "stderr",
     "output_type": "stream",
     "text": [
      "[16:57:30] \u001b[92mAuthenticating browser with cookies\u001b[0m\n",
      "[16:58:37] Posting \u001b[1m../totoro_vf.mp4\u001b[0m\n",
      "               with description: \u001b[1mDescription 1\u001b[0m\n",
      "[16:58:37] \u001b[92mNavigating to upload page\u001b[0m\n",
      "[17:00:02] \u001b[92mUploading video file\u001b[0m\n"
     ]
    },
    {
     "name": "stdout",
     "output_type": "stream",
     "text": [
      "Message: \n",
      "Stacktrace:\n",
      "0   chromedriver                        0x000000010470cd28 chromedriver + 4795688\n",
      "1   chromedriver                        0x00000001047042b3 chromedriver + 4760243\n",
      "2   chromedriver                        0x00000001042dd88d chromedriver + 407693\n",
      "3   chromedriver                        0x000000010432c3d9 chromedriver + 730073\n",
      "4   chromedriver                        0x000000010432c591 chromedriver + 730513\n",
      "5   chromedriver                        0x00000001043727e4 chromedriver + 1017828\n",
      "6   chromedriver                        0x0000000104353ccd chromedriver + 892109\n",
      "7   chromedriver                        0x000000010436fb2b chromedriver + 1006379\n",
      "8   chromedriver                        0x0000000104353a73 chromedriver + 891507\n",
      "9   chromedriver                        0x000000010431e143 chromedriver + 672067\n",
      "10  chromedriver                        0x000000010431f31e chromedriver + 676638\n",
      "11  chromedriver                        0x00000001046cd795 chromedriver + 4536213\n",
      "12  chromedriver                        0x00000001046d2853 chromedriver + 4556883\n",
      "13  chromedriver                        0x00000001046b3001 chromedriver + 4427777\n",
      "14  chromedriver                        0x00000001046d359d chromedriver + 4560285\n",
      "15  chromedriver                        0x00000001046a448c chromedriver + 4367500\n",
      "16  chromedriver                        0x00000001046f30e8 chromedriver + 4690152\n",
      "17  chromedriver                        0x00000001046f329e chromedriver + 4690590\n",
      "18  chromedriver                        0x0000000104703eee chromedriver + 4759278\n",
      "19  libsystem_pthread.dylib             0x00007ff8120b1202 _pthread_start + 99\n",
      "20  libsystem_pthread.dylib             0x00007ff8120acbab thread_start + 15\n",
      "\n",
      "Message: no such element: Unable to locate element: {\"method\":\"xpath\",\"selector\":\"//input[@type='file']\"}\n",
      "  (Session info: chrome=119.0.6045.123); For documentation on this error, please visit: https://www.selenium.dev/documentation/webdriver/troubleshooting/errors#no-such-element-exception\n",
      "Stacktrace:\n",
      "0   chromedriver                        0x000000010470cd28 chromedriver + 4795688\n",
      "1   chromedriver                        0x00000001047042b3 chromedriver + 4760243\n",
      "2   chromedriver                        0x00000001042dd88d chromedriver + 407693\n",
      "3   chromedriver                        0x000000010432c3d9 chromedriver + 730073\n",
      "4   chromedriver                        0x000000010432c591 chromedriver + 730513\n",
      "5   chromedriver                        0x00000001043727e4 chromedriver + 1017828\n",
      "6   chromedriver                        0x0000000104353ccd chromedriver + 892109\n",
      "7   chromedriver                        0x000000010436fb2b chromedriver + 1006379\n",
      "8   chromedriver                        0x0000000104353a73 chromedriver + 891507\n",
      "9   chromedriver                        0x000000010431e143 chromedriver + 672067\n",
      "10  chromedriver                        0x000000010431f31e chromedriver + 676638\n",
      "11  chromedriver                        0x00000001046cd795 chromedriver + 4536213\n",
      "12  chromedriver                        0x00000001046d2853 chromedriver + 4556883\n",
      "13  chromedriver                        0x00000001046b3001 chromedriver + 4427777\n",
      "14  chromedriver                        0x00000001046d359d chromedriver + 4560285\n",
      "15  chromedriver                        0x00000001046a448c chromedriver + 4367500\n",
      "16  chromedriver                        0x00000001046f30e8 chromedriver + 4690152\n",
      "17  chromedriver                        0x00000001046f329e chromedriver + 4690590\n",
      "18  chromedriver                        0x0000000104703eee chromedriver + 4759278\n",
      "19  libsystem_pthread.dylib             0x00007ff8120b1202 _pthread_start + 99\n",
      "20  libsystem_pthread.dylib             0x00007ff8120acbab thread_start + 15\n",
      "\n"
     ]
    },
    {
     "name": "stderr",
     "output_type": "stream",
     "text": [
      "[17:01:47] Failed to upload /Users/zough/Documents/VAP/PFE/AI-for-coding-green-videos/totoro_vf.mp4\n",
      "[17:01:47] \n",
      "    A video failed to upload\n",
      "    \n"
     ]
    },
    {
     "name": "stdout",
     "output_type": "stream",
     "text": [
      "Message: no such element: Unable to locate element: {\"method\":\"xpath\",\"selector\":\"//input[@type='file']\"}\n",
      "  (Session info: chrome=119.0.6045.123); For documentation on this error, please visit: https://www.selenium.dev/documentation/webdriver/troubleshooting/errors#no-such-element-exception\n",
      "Stacktrace:\n",
      "0   chromedriver                        0x000000010470cd28 chromedriver + 4795688\n",
      "1   chromedriver                        0x00000001047042b3 chromedriver + 4760243\n",
      "2   chromedriver                        0x00000001042dd88d chromedriver + 407693\n",
      "3   chromedriver                        0x000000010432c3d9 chromedriver + 730073\n",
      "4   chromedriver                        0x000000010432c591 chromedriver + 730513\n",
      "5   chromedriver                        0x00000001043727e4 chromedriver + 1017828\n",
      "6   chromedriver                        0x0000000104353ccd chromedriver + 892109\n",
      "7   chromedriver                        0x000000010436fb2b chromedriver + 1006379\n",
      "8   chromedriver                        0x0000000104353a73 chromedriver + 891507\n",
      "9   chromedriver                        0x000000010431e143 chromedriver + 672067\n",
      "10  chromedriver                        0x000000010431f31e chromedriver + 676638\n",
      "11  chromedriver                        0x00000001046cd795 chromedriver + 4536213\n",
      "12  chromedriver                        0x00000001046d2853 chromedriver + 4556883\n",
      "13  chromedriver                        0x00000001046b3001 chromedriver + 4427777\n",
      "14  chromedriver                        0x00000001046d359d chromedriver + 4560285\n",
      "15  chromedriver                        0x00000001046a448c chromedriver + 4367500\n",
      "16  chromedriver                        0x00000001046f30e8 chromedriver + 4690152\n",
      "17  chromedriver                        0x00000001046f329e chromedriver + 4690590\n",
      "18  chromedriver                        0x0000000104703eee chromedriver + 4759278\n",
      "19  libsystem_pthread.dylib             0x00007ff8120b1202 _pthread_start + 99\n",
      "20  libsystem_pthread.dylib             0x00007ff8120acbab thread_start + 15\n",
      "\n"
     ]
    },
    {
     "data": {
      "text/plain": [
       "[{'path': '../totoro_vf.mp4', 'description': 'Description 1'}]"
      ]
     },
     "execution_count": 3,
     "metadata": {},
     "output_type": "execute_result"
    }
   ],
   "source": [
    "upload_videos(videos=videos, auth=auth,browser='chrome',options=options,headless=True)"
   ]
  }
 ],
 "metadata": {
  "kernelspec": {
   "display_name": "Python 3",
   "language": "python",
   "name": "python3"
  },
  "language_info": {
   "codemirror_mode": {
    "name": "ipython",
    "version": 3
   },
   "file_extension": ".py",
   "mimetype": "text/x-python",
   "name": "python",
   "nbconvert_exporter": "python",
   "pygments_lexer": "ipython3",
   "version": "3.7.9"
  }
 },
 "nbformat": 4,
 "nbformat_minor": 2
}
